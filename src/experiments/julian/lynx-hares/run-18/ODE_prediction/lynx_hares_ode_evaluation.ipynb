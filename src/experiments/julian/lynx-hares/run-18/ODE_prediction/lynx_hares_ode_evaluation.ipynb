{
 "cells": [
  {
   "cell_type": "code",
   "execution_count": 23,
   "metadata": {},
   "outputs": [],
   "source": [
    "import pandas as pd\n",
    "from matplotlib import pyplot as plt\n",
    "\n",
    "from simba_ml.prediction.time_series.data_loader import window_generator, splits\n",
    "from simba_ml.prediction.time_series.config import time_series_config\n",
    "from simba_ml.prediction.time_series.metrics import metrics"
   ]
  },
  {
   "cell_type": "code",
   "execution_count": 24,
   "metadata": {},
   "outputs": [],
   "source": [
    "config = time_series_config.TimeSeriesConfig(input_features=['Hare', 'Lynx'],\n",
    "                                             output_features=['Lynx'],\n",
    "                                             input_length=5,\n",
    "                                             output_length=5,)"
   ]
  },
  {
   "cell_type": "code",
   "execution_count": 25,
   "metadata": {},
   "outputs": [],
   "source": [
    "data = pd.read_csv('lynx-hares.csv')\n",
    "X_true, y_true = splits.train_test_split(data=[data],\n",
    "                          test_split=0.79,\n",
    "                          input_length=5,\n",
    "                          split_axis='vertical')"
   ]
  },
  {
   "cell_type": "code",
   "execution_count": 26,
   "metadata": {},
   "outputs": [],
   "source": [
    "ode_data = pd.read_csv('lynx-hares_ode_forecast-2.csv')[:-1]\n",
    "_, ode_data_test = splits.train_test_split(data=[ode_data],\n",
    "                          test_split=0.79,\n",
    "                          input_length=5,\n",
    "                          split_axis='vertical')"
   ]
  },
  {
   "cell_type": "code",
   "execution_count": 27,
   "metadata": {},
   "outputs": [],
   "source": [
    "X, y = window_generator.create_window_dataset(data_list=ode_data_test,\n",
    "                                              config=config,)\n",
    "X_true, y_true = window_generator.create_window_dataset(data_list=y_true,\n",
    "                                                        config=config,)"
   ]
  },
  {
   "cell_type": "code",
   "execution_count": 28,
   "metadata": {},
   "outputs": [],
   "source": [
    "metrics.test_input(y_true=y_true,\n",
    "                   y_pred=y)"
   ]
  },
  {
   "cell_type": "code",
   "execution_count": 29,
   "metadata": {},
   "outputs": [],
   "source": [
    "mae = metrics.mean_absolute_error(y_true=y_true,\n",
    "                                  y_pred=y)"
   ]
  },
  {
   "cell_type": "code",
   "execution_count": 30,
   "metadata": {},
   "outputs": [
    {
     "data": {
      "text/plain": [
       "15.287806841796513"
      ]
     },
     "execution_count": 30,
     "metadata": {},
     "output_type": "execute_result"
    }
   ],
   "source": [
    "mae"
   ]
  },
  {
   "cell_type": "code",
   "execution_count": 31,
   "metadata": {},
   "outputs": [],
   "source": [
    "pta = metrics.prediction_trend_accuracy(y_true=y_true,\n",
    "                                        y_pred=y)"
   ]
  },
  {
   "cell_type": "code",
   "execution_count": 32,
   "metadata": {},
   "outputs": [
    {
     "data": {
      "text/plain": [
       "0.40808823529411764"
      ]
     },
     "execution_count": 32,
     "metadata": {},
     "output_type": "execute_result"
    }
   ],
   "source": [
    "1-pta"
   ]
  },
  {
   "cell_type": "code",
   "execution_count": 33,
   "metadata": {},
   "outputs": [],
   "source": [
    "# combine mae and 1-pta into a dictionary and export as csv\n",
    "pd.DataFrame.from_dict({'mean_absolute_error': [mae], '1-prediction_trend_accuracy': [1-pta]}).to_csv('ODE_prediction.csv', index=False)"
   ]
  },
  {
   "cell_type": "code",
   "execution_count": null,
   "metadata": {},
   "outputs": [],
   "source": []
  }
 ],
 "metadata": {
  "kernelspec": {
   "display_name": "Python 3",
   "language": "python",
   "name": "python3"
  },
  "language_info": {
   "codemirror_mode": {
    "name": "ipython",
    "version": 3
   },
   "file_extension": ".py",
   "mimetype": "text/x-python",
   "name": "python",
   "nbconvert_exporter": "python",
   "pygments_lexer": "ipython3",
   "version": "3.10.11"
  }
 },
 "nbformat": 4,
 "nbformat_minor": 2
}
