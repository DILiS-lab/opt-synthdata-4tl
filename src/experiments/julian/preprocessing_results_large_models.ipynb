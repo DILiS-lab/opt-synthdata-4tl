{
 "cells": [
  {
   "attachments": {},
   "cell_type": "markdown",
   "metadata": {},
   "source": [
    "##### Loading and Processing Data"
   ]
  },
  {
   "cell_type": "code",
   "execution_count": null,
   "metadata": {},
   "outputs": [],
   "source": [
    "import os\n",
    "import sys\n",
    "import pandas as pd\n",
    "module_path = os.path.abspath(os.path.join('../../../../..'))\n",
    "if module_path not in sys.path:\n",
    "    sys.path.append(module_path)"
   ]
  },
  {
   "cell_type": "markdown",
   "metadata": {},
   "source": [
    "### Define paths to experiments"
   ]
  },
  {
   "cell_type": "code",
   "execution_count": null,
   "metadata": {},
   "outputs": [],
   "source": [
    "covid_path = os.path.join(os.getcwd(), \"covid/multivariate/run-6\")\n",
    "rotifers_algae_coherent_path = os.path.join(os.getcwd(), \"algae-rotifers/multivariate/run-4\")\n",
    "rotifers_algae_incoherent_path = os.path.join(os.getcwd(), \"algae-rotifers/multivariate/run-8\")\n",
    "lynx_hares_path = os.path.join(os.getcwd(), \"lynx-hares/multivariate/run-18\")\n",
    "paths = {'covid': covid_path, 'rotifers_algae_coherent': rotifers_algae_coherent_path, 'rotifers_algae_incoherent': rotifers_algae_incoherent_path, 'lynx_hares': lynx_hares_path}\n",
    "\n",
    "lynx_hares_ode_prediction_path = os.path.join(os.getcwd(), \"lynx-hares/multivariate/run-10/ODE_prediction\")\n",
    "covid_ode_prediction_path = os.path.join(os.getcwd(), \"covid/multivariate/run-1/ODE_prediction\")\n",
    "rotifers_algae_coherent_ode_prediction_path = os.path.join(os.getcwd(), \"algae-rotifers/multivariate/run-1/ODE_prediction\")\n",
    "rotifers_algae_incoherent_ode_prediction_path = os.path.join(os.getcwd(), \"algae-rotifers/multivariate/run-5/ODE_prediction\")"
   ]
  },
  {
   "cell_type": "code",
   "execution_count": null,
   "metadata": {},
   "outputs": [],
   "source": [
    "experiment_folder = 'runs_transfer_learning'\n",
    "metrics = ['mean_absolute_scaled_error', 'mean_directional_accuracy', 'mean_absolute_error' ,'normalized_root_mean_squared_error']\n",
    "COLORS = [\"#596065\", \"#B1053A\", \"#E3681D\", \"#FAA719\", \"#00799D\"]"
   ]
  },
  {
   "cell_type": "markdown",
   "metadata": {},
   "source": [
    "### Create DL baseline results"
   ]
  },
  {
   "cell_type": "code",
   "execution_count": null,
   "metadata": {},
   "outputs": [],
   "source": [
    "baselines = {}\n",
    "\n",
    "for exp in paths.keys():\n",
    "    baseline = pd.DataFrame()\n",
    "    for dir in os.listdir(os.path.join(paths[exp], \"runs_baseline\")):\n",
    "        try:\n",
    "            current_baseline = pd.read_csv(os.path.join(paths[exp], \"runs_baseline\", dir, \"baseline.csv\"))\n",
    "            current_baseline[\"S\"] = dir.replace(\"S\", \"\")\n",
    "            baseline = pd.concat([baseline, current_baseline])\n",
    "        except:\n",
    "            continue\n",
    "    baseline = baseline.rename(columns={baseline.columns[0]: 'Models'})\n",
    "    baseline = baseline.rename(columns={\"mean_absolute_error\": \"MAE\", \"prediction_trend_accuracy\": \"PTA\", \"mean_absolute_scaled_error\": \"MASE\", \"mean_directional_accuracy\":\"MDA\", \"normalized_root_mean_squared_error\": \"NRMSE\"})\n",
    "    baseline['MDA'] = 1 - baseline['MDA']\n",
    "    baseline = baseline.rename(columns={'MDA': '1-MDA'})\n",
    "    baseline['PTA'] = 1 - baseline['PTA']\n",
    "    baseline = baseline.rename(columns={'PTA': '1-PTA'})\n",
    "    baseline['Models'] = baseline['Models'].str.replace('PyTorch_Lightning_', '')\n",
    "    baseline['TYPE'] = 'Baseline'\n",
    "    # Group by 'Models', 'TS', 'IC', and 'P' and calculate the mean and standard deviation for each group\n",
    "    baseline = baseline.groupby(['Models', 'TYPE'], as_index=False).agg({'MASE': ['mean', 'median', 'std'],\n",
    "                                                                        '1-MDA': ['mean', 'median', 'std'],\n",
    "                                                                        '1-PTA': ['mean', 'median', 'std'],\n",
    "                                                                        'MAE': ['mean', 'median', 'std'],\n",
    "                                                                        'NRMSE': ['mean', 'median', 'std']})\n",
    "    # Rename the columns for clarity\n",
    "    baseline.columns = ['Models', 'TYPE', 'MASE', 'MASE_median', 'MASE_std', '1-MDA', '1-MDA_median', '1-MDA_std', '1-PTA', '1-PTA_median', '1-PTA_std',\n",
    "                        'MAE', 'MAE_median', 'MAE_std', 'NRMSE', 'NRMSE_median', 'NRMSE_std']\n",
    "    baselines[exp] = baseline"
   ]
  },
  {
   "cell_type": "code",
   "execution_count": null,
   "metadata": {},
   "outputs": [],
   "source": [
    "baselines['covid']"
   ]
  },
  {
   "cell_type": "markdown",
   "metadata": {},
   "source": [
    "### Create ODE baseline results"
   ]
  },
  {
   "cell_type": "code",
   "execution_count": null,
   "metadata": {},
   "outputs": [],
   "source": [
    "ODE_baselines = {}\n",
    "\n",
    "# load ODE predictions for lynx and hares\n",
    "ODE_baseline_lynx_hares = pd.read_csv(os.path.join(lynx_hares_ode_prediction_path, \"ODE_prediction.csv\"))\n",
    "ODE_baseline_lynx_hares = ODE_baseline_lynx_hares.rename(columns={\"mean_absolute_error\": \"MAE\", \"1-prediction_trend_accuracy\": \"1-PTA\"})\n",
    "ODE_baseline_lynx_hares['Models'] = 'LV'\n",
    "\n",
    "# load ODE prediction for covid\n",
    "ODE_baseline_covid = pd.read_csv(os.path.join(covid_ode_prediction_path, \"ODE_prediction_1.csv\"))\n",
    "ODE_baseline_covid = ODE_baseline_covid.rename(columns={\"mean_absolute_error\": \"MAE\", \"1-prediction_trend_accuracy\": \"1-PTA\"})\n",
    "ODE_baseline_covid['Models'] = 'SIR'\n",
    "\n",
    "# load ODE prediction for algae-rotifers\n",
    "ODE_baseline_algae_rotifers = pd.read_csv(os.path.join(rotifers_algae_coherent_path, \"ODE_prediction\", \"ODE_prediction.csv\"))\n",
    "ODE_baseline_algae_rotifers = ODE_baseline_algae_rotifers.rename(columns={\"mean_absolute_error\": \"MAE\", \"1-prediction_trend_accuracy\": \"1-PTA\"})\n",
    "ODE_baseline_algae_rotifers['Models'] = 'SAR'\n",
    "\n",
    "# load ODE prediction for incoherent algae-rotifers\n",
    "ODE_baseline_algae_rotifers_incoherent = pd.read_csv(os.path.join(rotifers_algae_incoherent_path, \"ODE_prediction\", \"ODE_prediction.csv\"))\n",
    "ODE_baseline_algae_rotifers_incoherent = ODE_baseline_algae_rotifers_incoherent.rename(columns={\"mean_absolute_error\": \"MAE\", \"1-prediction_trend_accuracy\": \"1-PTA\"})\n",
    "ODE_baseline_algae_rotifers_incoherent['Models'] = 'SAR'\n",
    "\n",
    "# load ODE prediction for coherent algae-rotifers\n",
    "ODE_baseline_algae_rotifers_coherent = pd.read_csv(os.path.join(rotifers_algae_coherent_ode_prediction_path, \"ODE_prediction.csv\"))\n",
    "ODE_baseline_algae_rotifers_coherent = ODE_baseline_algae_rotifers_coherent.rename(columns={\"mean_absolute_error\": \"MAE\", \"1-prediction_trend_accuracy\": \"1-PTA\"})\n",
    "ODE_baseline_algae_rotifers_coherent['Models'] = 'SAR'\n",
    "\n",
    "ODE_baselines['covid'] = ODE_baseline_covid\n",
    "ODE_baselines['lynx_hares'] = ODE_baseline_lynx_hares\n",
    "ODE_baselines['rotifers_algae_coherent'] = ODE_baseline_algae_rotifers_coherent\n",
    "ODE_baselines['rotifers_algae_incoherent'] = ODE_baseline_algae_rotifers_incoherent\n"
   ]
  },
  {
   "attachments": {},
   "cell_type": "markdown",
   "metadata": {},
   "source": [
    "### Collect and preprocess transfer learning results"
   ]
  },
  {
   "cell_type": "code",
   "execution_count": null,
   "metadata": {},
   "outputs": [],
   "source": [
    "import re\n",
    "\n",
    "def extract_numbers(string):\n",
    "    df = pd.DataFrame()\n",
    "    # Remove any non-digit characters from the string\n",
    "    strings = string.split(\"_\")\n",
    "    for string in strings:\n",
    "        if string.startswith(\"IC\"):\n",
    "            number = re.sub('[a-zA-Z]', '', string)\n",
    "            if \"-\" in number:\n",
    "                numbers = number.split(\"-\")\n",
    "                number = int(numbers[1]) - int(numbers[0])\n",
    "            else:\n",
    "                number = number\n",
    "            column = re.sub('[0-9]', '', string).replace(\"-\", \"\")\n",
    "            df[str(column)] = [int(number)]\n",
    "        if string.startswith(\"P\"):\n",
    "            number = re.sub('[a-zA-Z]', '', string)\n",
    "            column = re.sub('[0-9]', '', string).replace(\"-\", \"\")\n",
    "            df[str(column)] = [int(number)]\n",
    "        if string.startswith(\"TS\"):\n",
    "            number = re.sub('[a-zA-Z]', '', string)\n",
    "            column = re.sub('[0-9]', '', string).replace(\"-\", \"\")\n",
    "            df[str(column)] = [int(number)]\n",
    "        if string.startswith(\"S\"):\n",
    "            number = re.sub('[a-zA-Z]', '', string)\n",
    "            column = re.sub('[0-9]', '', string).replace(\"-\", \"\")\n",
    "            df[str(column)] = [int(number)]\n",
    "    return df"
   ]
  },
  {
   "cell_type": "code",
   "execution_count": null,
   "metadata": {},
   "outputs": [],
   "source": [
    "transfer_learning = {}\n",
    "\n",
    "for exp in paths.keys():\n",
    "    data = []\n",
    "    experiment_names = []\n",
    "    for experiment in sorted(os.listdir(os.path.join(paths[exp], experiment_folder))):\n",
    "        if os.path.isdir(os.path.join(paths[exp], experiment_folder, experiment)):\n",
    "            for file in os.listdir(os.path.join(paths[exp], experiment_folder, experiment)):\n",
    "                if file.endswith('.csv'):\n",
    "                    df = pd.read_csv(os.path.join(paths[exp], experiment_folder, experiment, file))\n",
    "                    df = df.rename(columns={\"mean_absolute_error\": \"MAE\", \"mean_absolute_scaled_error\": \"MASE\", \"mean_directional_accuracy\":\"MDA\", \"prediction_trend_accuracy\": \"PTA\", \"normalized_root_mean_squared_error\": \"NRMSE\"})\n",
    "                    df['MDA'] = 1 - df['MDA']\n",
    "                    df['PTA'] = 1 - df['PTA']\n",
    "                    df = df.rename(columns={df.columns[0]: 'Models', 'MDA': '1-MDA', 'PTA': '1-PTA'})\n",
    "                    df['Models'] = df['Models'].str.replace('PyTorch_Lightning_', '')\n",
    "                    experiment_names.append(experiment)\n",
    "                    data.append(df)\n",
    "\n",
    "    # Extract numbers from the strings and create a dictionary\n",
    "    transfer_learning_data = pd.DataFrame()\n",
    "    for exp_idx, experiment_name in enumerate(experiment_names):\n",
    "        df = extract_numbers(experiment_name)\n",
    "        df = df.loc[df.index.repeat(len(data[exp_idx]))].reset_index(drop=True)\n",
    "        transfer_learning_data = pd.concat([transfer_learning_data, pd.concat([pd.DataFrame(data[exp_idx]).reset_index(drop=True), df], axis=1)], axis=0)\n",
    "\n",
    "    transfer_learning_data['TYPE'] = 'Transfer Learning Run'\n",
    "    transfer_learning_data = transfer_learning_data[['Models', 'MAE', 'MASE', '1-MDA', '1-PTA', 'NRMSE', 'TS', 'IC', 'P', 'S', 'TYPE']]\n",
    "    transfer_learning_data = transfer_learning_data.sort_values(['Models', 'TS', 'IC', 'P'])\n",
    "    transfer_learning_data_with_seeds = transfer_learning_data.copy()\n",
    "\n",
    "    # Group by 'Models', 'TS', 'IC', and 'P' and calculate the mean and standard deviation for each group\n",
    "    transfer_learning_data = transfer_learning_data.groupby(['Models', 'TYPE', 'TS', 'IC', 'P'], as_index=False).agg({\n",
    "                                                                            'MASE': ['mean', 'median', 'std'],\n",
    "                                                                            '1-MDA': ['mean', 'median', 'std'],\n",
    "                                                                            '1-PTA': ['mean', 'median', 'std'],\n",
    "                                                                            'MAE': ['mean', 'median', 'std'],\n",
    "                                                                            'NRMSE': ['mean', 'median', 'std']})\n",
    "\n",
    "    # Rename the columns for clarity\n",
    "    transfer_learning_data.columns = ['Models', 'TYPE', 'TS', 'IC', 'KP', 'MASE', 'MASE_median', 'MASE_std', '1-MDA', '1-MDA_median', '1-MDA_std', '1-PTA', '1-PTA_median', '1-PTA_std',\n",
    "                        'MAE', 'MAE_median', 'MAE_std', 'NRMSE', 'NRMSE_median', 'NRMSE_std']\n",
    "\n",
    "    transfer_learning[exp] = transfer_learning_data"
   ]
  },
  {
   "cell_type": "markdown",
   "metadata": {},
   "source": [
    "### Preview transfer learning results"
   ]
  },
  {
   "cell_type": "code",
   "execution_count": null,
   "metadata": {},
   "outputs": [],
   "source": [
    "transfer_learning['covid']"
   ]
  }
 ],
 "metadata": {
  "kernelspec": {
   "display_name": "thesis",
   "language": "python",
   "name": "python3"
  },
  "language_info": {
   "codemirror_mode": {
    "name": "ipython",
    "version": 3
   },
   "file_extension": ".py",
   "mimetype": "text/x-python",
   "name": "python",
   "nbconvert_exporter": "python",
   "pygments_lexer": "ipython3",
   "version": "3.9.18"
  }
 },
 "nbformat": 4,
 "nbformat_minor": 2
}
