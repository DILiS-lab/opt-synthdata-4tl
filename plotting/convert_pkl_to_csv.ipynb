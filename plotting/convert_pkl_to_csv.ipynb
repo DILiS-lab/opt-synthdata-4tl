{
 "cells": [
  {
   "cell_type": "code",
   "execution_count": 1,
   "metadata": {},
   "outputs": [],
   "source": [
    "import pickle\n",
    "import pandas as pd\n",
    "import seaborn as sns"
   ]
  },
  {
   "cell_type": "code",
   "execution_count": 2,
   "metadata": {},
   "outputs": [
    {
     "name": "stdout",
     "output_type": "stream",
     "text": [
      "['#4c1d4b', '#a11a5b', '#e83f3f', '#f69c73']\n"
     ]
    }
   ],
   "source": [
    "print(sns.color_palette(\"rocket\", 4).as_hex())"
   ]
  },
  {
   "cell_type": "code",
   "execution_count": 14,
   "metadata": {},
   "outputs": [],
   "source": [
    "# new baseline MAE\n",
    "pd.DataFrame({'covid': 5.597490872219725,\n",
    " 'rotifers_algae_coherent': 0.7955612376744025,\n",
    " 'rotifers_algae_incoherent': 2.612026085992903,\n",
    " 'lynx_hares': 0.815310066533945}, index=[0]).to_csv('ode_baseline_mae.csv', index=False)"
   ]
  },
  {
   "cell_type": "code",
   "execution_count": 15,
   "metadata": {},
   "outputs": [],
   "source": [
    "# new baseline 1-PTA\n",
    "pd.DataFrame({'covid': 1.8214285714285712,\n",
    " 'rotifers_algae_coherent': 1.0593220338983051,\n",
    " 'rotifers_algae_incoherent': 0.815100815100815,\n",
    " 'lynx_hares': 1.767515923566879}, index=[0]).to_csv('ode_baseline_pta.csv', index=False)\n",
    "\n",
    "\n"
   ]
  },
  {
   "cell_type": "code",
   "execution_count": 6,
   "metadata": {},
   "outputs": [],
   "source": [
    "with open('transfer_learning_data.pkl', 'rb') as f:\n",
    "    heatmap_data = pickle.load(f)"
   ]
  },
  {
   "cell_type": "code",
   "execution_count": 7,
   "metadata": {},
   "outputs": [],
   "source": [
    "for key, value in heatmap_data.items():\n",
    "    pd.DataFrame(value).to_csv(f'Figure 3/heatmap_data/{key}.csv', index=False)"
   ]
  },
  {
   "cell_type": "code",
   "execution_count": 4,
   "metadata": {},
   "outputs": [],
   "source": [
    "with open('DL_baseline_data.pkl', 'rb') as f:\n",
    "    heatmap_baseline = pickle.load(f)\n"
   ]
  },
  {
   "cell_type": "code",
   "execution_count": 11,
   "metadata": {},
   "outputs": [],
   "source": [
    "pd.DataFrame(heatmap_baseline, index=[0]).to_csv('Figure 3/heatmap_baseline.csv', index=False)"
   ]
  },
  {
   "cell_type": "code",
   "execution_count": 21,
   "metadata": {},
   "outputs": [],
   "source": [
    "with open('transfer_learning_data_pta.pkl', 'rb') as f:\n",
    "    pta_data = pickle.load(f)"
   ]
  },
  {
   "cell_type": "code",
   "execution_count": 26,
   "metadata": {},
   "outputs": [],
   "source": [
    "result = []\n",
    "for key, value in pta_data.items():\n",
    "    result.append(pd.DataFrame(value).assign(EXP=key).drop(columns=[\"IC\", \"KP\"]))\n",
    "pd.concat(result).replace(\"rotifers_algae_coherent\", \"coh._rotifers_algae\").replace(\"rotifers_algae_incoherent\", \"incoh._rotifers_algae\").to_csv('Figure 2/pta_dataframe.csv', index=False)"
   ]
  }
 ],
 "metadata": {
  "kernelspec": {
   "display_name": "daki_base",
   "language": "python",
   "name": "python3"
  },
  "language_info": {
   "codemirror_mode": {
    "name": "ipython",
    "version": 3
   },
   "file_extension": ".py",
   "mimetype": "text/x-python",
   "name": "python",
   "nbconvert_exporter": "python",
   "pygments_lexer": "ipython3",
   "version": "3.8.13"
  }
 },
 "nbformat": 4,
 "nbformat_minor": 2
}
